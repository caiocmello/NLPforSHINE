{
 "cells": [
  {
   "cell_type": "code",
   "execution_count": null,
   "metadata": {},
   "outputs": [],
   "source": [
    "from boilerpipe.extract import Extractor \n",
    "import os\n",
    "convertStrings=False\n",
    "import codecs\n"
   ]
  },
  {
   "cell_type": "code",
   "execution_count": null,
   "metadata": {},
   "outputs": [],
   "source": [
    "## change variables \n",
    "\n",
    "year = '2006'\n",
    "domain = '%22guardian.co.uk%22' \n",
    "domain_name = 'citymonitor'\n",
    "\n",
    "#----------------------------------#\n",
    "\n",
    "local = './data/' + domain_name\n",
    "filename = year + domain + 'search'\n"
   ]
  },
  {
   "cell_type": "code",
   "execution_count": null,
   "metadata": {},
   "outputs": [],
   "source": [
    "with open(local + '/' 'citymonitor.txt') as f:\n",
    "    urls = f.read().splitlines()"
   ]
  },
  {
   "cell_type": "code",
   "execution_count": null,
   "metadata": {},
   "outputs": [],
   "source": [
    "for url in urls:\n",
    "    if url.startswith('http'):\n",
    "        extractor = Extractor(extractor='ArticleExtractor', url=url, encoding='latin1')\n",
    "        extracted_text = extractor.getText()\n",
    "        \n",
    "        cleanQuery = url[27:41]\n",
    "        filename = cleanQuery\n",
    "        localfinal = './data/' + domain_name + '/full-articles'\n",
    "        with open(os.path.join(localfinal, filename + '.txt'), 'w') as file1:\n",
    "            file1.write(extracted_text)\n",
    "            file1.close\n"
   ]
  },
  {
   "cell_type": "code",
   "execution_count": null,
   "metadata": {},
   "outputs": [],
   "source": [
    "#------------------------------------- STOP HERE-----------------------------------------#"
   ]
  },
  {
   "cell_type": "code",
   "execution_count": null,
   "metadata": {},
   "outputs": [],
   "source": [
    "extractor = Extractor(extractor='ArticleExtractor', url='http://web.archive.org/web/20091008143303/http://www.guardian.co.uk:80/society/2001/mar/19/regeneration.urbanregeneration1', encoding='latin1')\n",
    "extracted_text = extractor.getText()\n",
    "print(extracted_text)"
   ]
  }
 ],
 "metadata": {
  "kernelspec": {
   "display_name": "Python 3",
   "language": "python",
   "name": "python3"
  },
  "language_info": {
   "codemirror_mode": {
    "name": "ipython",
    "version": 3
   },
   "file_extension": ".py",
   "mimetype": "text/x-python",
   "name": "python",
   "nbconvert_exporter": "python",
   "pygments_lexer": "ipython3",
   "version": "3.7.3"
  }
 },
 "nbformat": 4,
 "nbformat_minor": 4
}
